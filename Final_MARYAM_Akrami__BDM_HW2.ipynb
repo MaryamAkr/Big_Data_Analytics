{
  "nbformat": 4,
  "nbformat_minor": 0,
  "metadata": {
    "colab": {
      "name": "Final_MARYAM_Akrami_ BDM_HW2",
      "provenance": [],
      "collapsed_sections": []
    },
    "kernelspec": {
      "name": "python3",
      "display_name": "Python 3"
    }
  },
  "cells": [
    {
      "cell_type": "markdown",
      "metadata": {
        "id": "AsSA0dIMNznB"
      },
      "source": [
        "# Homework 2 - MapReduce\n",
        "\n",
        "There is only one task in this homework. You are asked to implement the Social Triangle example discussed in class. In particular, given the email dataset, please list all \"reciprocal\" relationships in the company. Recall that:\n",
        "\n",
        "If A emails B and B emails A, then A and B is *reciprocal*.\n",
        "\n",
        "If A emails B but B doesn’t email A, then A and B is *directed*.\n",
        "\n",
        "**Dataset:** We will use a subset of the open [Enron Email Dataset](https://www.cs.cmu.edu/~./enron/ \"Enron Email Dataset\"), which contains approximately 10,000 simplified email headers from the Enron Corporation. A subset of the data is available as **enron_mails_small.csv** as part of this notebook. The file contains 3 columns *Date*, *From*, and *To*. Their description is as follows:\n",
        "\n",
        "|Column name|Description|\n",
        "|--|--|\n",
        "|Date |The date and time of the email, in the format YYYY-MM-DD hh-mm-ss, <br />e.g. \"1998-10-30 07:43:00\" |\n",
        "|From |The sender email address, <br />e.g. \"mark.taylor@enron.com\" |\n",
        "|To | A list of recipients' email addresses separated by semicolons ';', <br />e.g. \"jennifer.fraser@enron.com;jeffrey.hodge@enron.com\" |\n",
        "\n",
        "Note that, we only care about users employed by Enron, i.e. only relationships where email addresses end with *'@enron.com'*.\n",
        "\n",
        "The expected output is also provided below. For each reciprocal relationship, please output a tuple consisting of two strings. The first one is always **'reciprocal'**. And the second one is a string showing the name of the two person in the following format: **'Jane Doe : John Doe'**. The names should be presented in the lexical order, i.e. there will not be a 'John Doe : Jane Doe' since 'Jane' is ordered before 'John.\n",
        "\n",
        "Though the dataset only contains email addresses, not actual names, we're assuming that the email aliases were created based on their name. For example:\n",
        "\n",
        "|Email Address|Converted Name|\n",
        "|--|--|\n",
        "|mark.taylor@enron.com|Mark Taylor|\n",
        "|alan.aronowitz@enron.com|Alan Aronowitz|\n",
        "|marc.r.cutler@enron.com|Marc R Cutler|\n",
        "|hugh@enron.com|Hugh|\n",
        "\n",
        "You must complete the **MRFindReciprocal** class below (which is inherited from MRJob), and your code must run with the **mapreduce.py** package **mr.runJob()** as provided."
      ]
    },
    {
      "cell_type": "code",
      "metadata": {
        "id": "ozEACpiCPhw4",
        "colab": {
          "base_uri": "https://localhost:8080/"
        },
        "outputId": "0a216e41-0b5e-4eba-b83b-eee78dc30170"
      },
      "source": [
        "!pip install mrjob\n",
        "\n",
        "from pydrive.auth import GoogleAuth\n",
        "from pydrive.drive import GoogleDrive\n",
        "from google.colab import auth\n",
        "from oauth2client.client import GoogleCredentials\n",
        "\n",
        "# Authenticate and create the PyDrive client\n",
        "auth.authenticate_user()\n",
        "gauth = GoogleAuth()\n",
        "gauth.credentials = GoogleCredentials.get_application_default()\n",
        "drive = GoogleDrive(gauth)"
      ],
      "execution_count": 1,
      "outputs": [
        {
          "output_type": "stream",
          "text": [
            "Collecting mrjob\n",
            "\u001b[?25l  Downloading https://files.pythonhosted.org/packages/8e/58/fc28ab743aba16e90736ad4e29694bd2adaf7b879376ff149306d50c4e90/mrjob-0.7.4-py2.py3-none-any.whl (439kB)\n",
            "\r\u001b[K     |▊                               | 10kB 2.3MB/s eta 0:00:01\r\u001b[K     |█▌                              | 20kB 3.5MB/s eta 0:00:01\r\u001b[K     |██▎                             | 30kB 3.6MB/s eta 0:00:01\r\u001b[K     |███                             | 40kB 2.5MB/s eta 0:00:01\r\u001b[K     |███▊                            | 51kB 3.0MB/s eta 0:00:01\r\u001b[K     |████▌                           | 61kB 3.5MB/s eta 0:00:01\r\u001b[K     |█████▏                          | 71kB 3.7MB/s eta 0:00:01\r\u001b[K     |██████                          | 81kB 3.9MB/s eta 0:00:01\r\u001b[K     |██████▊                         | 92kB 4.2MB/s eta 0:00:01\r\u001b[K     |███████▌                        | 102kB 4.3MB/s eta 0:00:01\r\u001b[K     |████████▏                       | 112kB 4.3MB/s eta 0:00:01\r\u001b[K     |█████████                       | 122kB 4.3MB/s eta 0:00:01\r\u001b[K     |█████████▊                      | 133kB 4.3MB/s eta 0:00:01\r\u001b[K     |██████████▍                     | 143kB 4.3MB/s eta 0:00:01\r\u001b[K     |███████████▏                    | 153kB 4.3MB/s eta 0:00:01\r\u001b[K     |████████████                    | 163kB 4.3MB/s eta 0:00:01\r\u001b[K     |████████████▊                   | 174kB 4.3MB/s eta 0:00:01\r\u001b[K     |█████████████▍                  | 184kB 4.3MB/s eta 0:00:01\r\u001b[K     |██████████████▏                 | 194kB 4.3MB/s eta 0:00:01\r\u001b[K     |███████████████                 | 204kB 4.3MB/s eta 0:00:01\r\u001b[K     |███████████████▋                | 215kB 4.3MB/s eta 0:00:01\r\u001b[K     |████████████████▍               | 225kB 4.3MB/s eta 0:00:01\r\u001b[K     |█████████████████▏              | 235kB 4.3MB/s eta 0:00:01\r\u001b[K     |██████████████████              | 245kB 4.3MB/s eta 0:00:01\r\u001b[K     |██████████████████▋             | 256kB 4.3MB/s eta 0:00:01\r\u001b[K     |███████████████████▍            | 266kB 4.3MB/s eta 0:00:01\r\u001b[K     |████████████████████▏           | 276kB 4.3MB/s eta 0:00:01\r\u001b[K     |████████████████████▉           | 286kB 4.3MB/s eta 0:00:01\r\u001b[K     |█████████████████████▋          | 296kB 4.3MB/s eta 0:00:01\r\u001b[K     |██████████████████████▍         | 307kB 4.3MB/s eta 0:00:01\r\u001b[K     |███████████████████████         | 317kB 4.3MB/s eta 0:00:01\r\u001b[K     |███████████████████████▉        | 327kB 4.3MB/s eta 0:00:01\r\u001b[K     |████████████████████████▋       | 337kB 4.3MB/s eta 0:00:01\r\u001b[K     |█████████████████████████▍      | 348kB 4.3MB/s eta 0:00:01\r\u001b[K     |██████████████████████████      | 358kB 4.3MB/s eta 0:00:01\r\u001b[K     |██████████████████████████▉     | 368kB 4.3MB/s eta 0:00:01\r\u001b[K     |███████████████████████████▋    | 378kB 4.3MB/s eta 0:00:01\r\u001b[K     |████████████████████████████▎   | 389kB 4.3MB/s eta 0:00:01\r\u001b[K     |█████████████████████████████   | 399kB 4.3MB/s eta 0:00:01\r\u001b[K     |█████████████████████████████▉  | 409kB 4.3MB/s eta 0:00:01\r\u001b[K     |██████████████████████████████▋ | 419kB 4.3MB/s eta 0:00:01\r\u001b[K     |███████████████████████████████▎| 430kB 4.3MB/s eta 0:00:01\r\u001b[K     |████████████████████████████████| 440kB 4.3MB/s \n",
            "\u001b[?25hRequirement already satisfied: PyYAML>=3.10 in /usr/local/lib/python3.7/dist-packages (from mrjob) (3.13)\n",
            "Installing collected packages: mrjob\n",
            "Successfully installed mrjob-0.7.4\n"
          ],
          "name": "stdout"
        }
      ]
    },
    {
      "cell_type": "code",
      "metadata": {
        "id": "PbI4sXmmS7u4"
      },
      "source": [
        "drive.CreateFile({'id': '1sq4-zXn2Z82mdLSBBegEgsUsfqtgza-C'}).GetContentFile('mapreduce.py')\n",
        "drive.CreateFile({'id': '1It6GP8O2JqkmUtZKbYp1kpwpuwOXlLps'}).GetContentFile('enron_mails_small.csv')"
      ],
      "execution_count": 2,
      "outputs": []
    },
    {
      "cell_type": "code",
      "metadata": {
        "colab": {
          "base_uri": "https://localhost:8080/"
        },
        "id": "kJcCBVWAVluX",
        "outputId": "925d87ce-6a1d-4afa-f28f-8e23e00ad53d"
      },
      "source": [
        "import csv\n",
        "import mapreduce as mr\n",
        "from mrjob.job import MRJob\n",
        "from mrjob.step import MRStep\n",
        "\n",
        "################################\n",
        "### YOUR WORK SHOULD BE HERE ###\n",
        "################################\n",
        "class MRFindReciprocal(MRJob):\n",
        "  '''\n",
        "  PLEASE COMPLETE THIS CLASS. THIS SHOULD BE THE ONLY PLACE THAT YOU CAN EDIT.\n",
        "  THE INPUT OF YOUR MAPREDUCE JOB WOULD BE LINE OF TEXT WITHOUT '\\n'.\n",
        "  '''\n",
        "  \n",
        "  def mapper1(self, _, line):\n",
        "\n",
        "    values = line.strip().split(',')\n",
        "    from_name = values[1]\n",
        "    To_name = values[2]\n",
        "    from_name_list = from_name.split(',')\n",
        "\n",
        "    for sender in from_name_list :\n",
        "      if \"@enron.com\" in sender:\n",
        "        from_name = sender.split('@')[0] \n",
        "        from_fname = from_name.split('.')[0] \n",
        "        from_lname = from_name.split('.')[-1]\n",
        "      #from_lname= from_name.split('.')] \n",
        "        from_name = from_fname.capitalize()  +\" \"+ from_lname.capitalize() \n",
        "        To_list = To_name.split(';')\n",
        "        for item in To_list: \n",
        "          if \"@enron.com\" in item :\n",
        "            To_name = item.split('@')[0] \n",
        "            To_name_fname  = To_name.split('.')[0]\n",
        "            To_name_lname = To_name.split('.')[-1]\n",
        "        #To_name_lname= To_name.split('.')[1]\n",
        "            To_name =To_name_fname.capitalize()  +\" \"+ To_name_lname.capitalize() \n",
        "            yield ([from_name,To_name])\n",
        "\n",
        "  def reducer1(self, from_name,To_name):\n",
        "    yield (from_name, set(To_name))\n",
        "\n",
        "  def __init__(self,args=[]):\n",
        "    self.storage = {}\n",
        "\n",
        "  def mapper2(self , sender , recivers):\n",
        "    self.storage[sender] = recivers\n",
        "    #dictionary.values() = recivers\n",
        "    for reciver in recivers : \n",
        "      yield (reciver,sender)\n",
        "\n",
        "  def reducer2(self,reciver,sender):\n",
        "    if reciver in self.storage :\n",
        "      setone_settwo = (set(sender),self.storage[reciver])\n",
        "      yield (reciver, setone_settwo)\n",
        "   # else:\n",
        "    #  yield (reciver, set(sender) , [])\n",
        "\n",
        "  def mapper3(self,reciver,setone_settwo):\n",
        "    setone , settwo = setone_settwo\n",
        "\n",
        "    for y in setone:\n",
        "      if y in settwo:\n",
        "       # print('reciprocal', reciver+''+ y)\n",
        "        tuple =(reciver, y)\n",
        "        first , second = sorted(tuple)\n",
        "        yield 'reciprocal', first + ':' + second\n",
        "       #yield (reciver+':'+ y)\n",
        "  \n",
        "   \n",
        "  def reducer3(slf ,Recep, str_y1_y2 ):\n",
        "   # str_y1_y2 = list(str_y1_y2)\n",
        "   \n",
        "    str_y1_y2 = sorted(set(str_y1_y2))\n",
        "    \n",
        "    for any in str_y1_y2:\n",
        "      first, second = any.split(':')\n",
        "      if first != second :\n",
        "        yield 'reciprocal',(any)\n",
        "\n",
        "  def steps(self):\n",
        "      return [MRStep(mapper=self.mapper1, reducer=self.reducer1),\n",
        "              MRStep(mapper_init= self.__init__ , mapper=self.mapper2, reducer=self.reducer2),\n",
        "              MRStep(mapper=self.mapper3 ,reducer=self.reducer3)\n",
        "             ]\n",
        "\n",
        "\n",
        "###################################\n",
        "### DO NOT EDIT BELOW THIS LINE ###\n",
        "###################################\n",
        "job = MRFindReciprocal(args=[])\n",
        "with open('enron_mails_small.csv', 'r') as fi:\n",
        "  next(fi)\n",
        "  output = list(mr.runJob(enumerate(map(lambda x: x.strip(), fi)), job))\n",
        "\n",
        "print(len(output))\n",
        "output"
      ],
      "execution_count": 122,
      "outputs": [
        {
          "output_type": "stream",
          "text": [
            "35\n"
          ],
          "name": "stdout"
        },
        {
          "output_type": "execute_result",
          "data": {
            "text/plain": [
              "[('reciprocal', 'Brenda Whitehead:Elizabeth Sager'),\n",
              " ('reciprocal', 'Carol Clair:Debra Perlingiere'),\n",
              " ('reciprocal', 'Carol Clair:Mark Taylor'),\n",
              " ('reciprocal', 'Carol Clair:Richard Sanders'),\n",
              " ('reciprocal', 'Carol Clair:Sara Shackleton'),\n",
              " ('reciprocal', 'Carol Clair:Tana Jones'),\n",
              " ('reciprocal', 'Debra Perlingiere:Kevin Ruscitti'),\n",
              " ('reciprocal', 'Drew Fossum:Susan Scott'),\n",
              " ('reciprocal', 'Elizabeth Sager:Janette Elbertson'),\n",
              " ('reciprocal', 'Elizabeth Sager:Mark Haedicke'),\n",
              " ('reciprocal', 'Elizabeth Sager:Mark Taylor'),\n",
              " ('reciprocal', 'Elizabeth Sager:Richard Sanders'),\n",
              " ('reciprocal', 'Eric Bass:Susan Scott'),\n",
              " ('reciprocal', 'Fletcher Sturm:Greg Whalley'),\n",
              " ('reciprocal', 'Fletcher Sturm:Sally Beck'),\n",
              " ('reciprocal', 'Gerald Nemec:Susan Scott'),\n",
              " ('reciprocal', 'Grant Masson:Vince Kaminski'),\n",
              " ('reciprocal', 'Greg Whalley:Richard Sanders'),\n",
              " ('reciprocal', 'Janette Elbertson:Mark Taylor'),\n",
              " ('reciprocal', 'Janette Elbertson:Richard Sanders'),\n",
              " ('reciprocal', 'Liz Taylor:Mark Haedicke'),\n",
              " ('reciprocal', 'Mark Haedicke:Mark Taylor'),\n",
              " ('reciprocal', 'Mark Haedicke:Michelle Cash'),\n",
              " ('reciprocal', 'Mark Haedicke:Richard Sanders'),\n",
              " ('reciprocal', 'Mark Haedicke:Twanda Sweet'),\n",
              " ('reciprocal', 'Mark Taylor:Sara Shackleton'),\n",
              " ('reciprocal', 'Mark Taylor:Tana Jones'),\n",
              " ('reciprocal', 'Michelle Cash:Twanda Sweet'),\n",
              " ('reciprocal', 'Pinnamaneni Krishnarao:Vince Kaminski'),\n",
              " ('reciprocal', 'Richard Sanders:Sara Shackleton'),\n",
              " ('reciprocal', 'Rosalee Fleming:Steven Kean'),\n",
              " ('reciprocal', 'Sara Shackleton:Tana Jones'),\n",
              " ('reciprocal', 'Shirley Crenshaw:Vince Kaminski'),\n",
              " ('reciprocal', 'Stinson Gibner:Vince Kaminski'),\n",
              " ('reciprocal', 'Vasant Shanbhogue:Vince Kaminski')]"
            ]
          },
          "metadata": {
            "tags": []
          },
          "execution_count": 122
        }
      ]
    }
  ]
}