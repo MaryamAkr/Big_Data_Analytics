{
  "nbformat": 4,
  "nbformat_minor": 0,
  "metadata": {
    "colab": {
      "name": "Maryam_Akrami_update_ BDM_HW1",
      "provenance": [],
      "collapsed_sections": [],
      "toc_visible": true
    },
    "kernelspec": {
      "name": "python3",
      "display_name": "Python 3"
    }
  },
  "cells": [
    {
      "cell_type": "markdown",
      "metadata": {
        "id": "lvnKTXzOO5p_"
      },
      "source": [
        "# Homework 1 - Streaming and Higher Order Functions (15 pts)\r\n",
        "\r\n",
        "Please turn in your note book naming as *BDM\\_HW1\\_LastName.ipynb*."
      ]
    },
    {
      "cell_type": "markdown",
      "metadata": {
        "id": "aCy9ZXhXL9Lo"
      },
      "source": [
        "\n",
        "## Task 1 (2 points)\n",
        "\n",
        "Please complete the **lambda f1** definition below by filling in the _________ part. **f1** is expected to take a single string argument and returns whether the string can be converted to a natural number or zero. If it's possible, returns **'Number'**, otherwise returns **'Not a number'**. For example *'0123'* is a valid number 'Number', whereas *'0xff'* is not."
      ]
    },
    {
      "cell_type": "code",
      "metadata": {
        "id": "_ZGEp6bsL9Lp",
        "colab": {
          "base_uri": "https://localhost:8080/"
        },
        "outputId": "4f81dbd0-6bbe-4f74-c891-077305cbee2b"
      },
      "source": [
        "f1 = lambda x: 'Number' if (x.isdigit()) else 'Not a number'\n",
        "print(f1('1A'))\n",
        "print(f1('12'))\n",
        "print(f1('b1'))"
      ],
      "execution_count": null,
      "outputs": [
        {
          "output_type": "stream",
          "text": [
            "Not a number\n",
            "Number\n",
            "Not a number\n"
          ],
          "name": "stdout"
        }
      ]
    },
    {
      "cell_type": "markdown",
      "metadata": {
        "id": "tk3arVyKL9Lq"
      },
      "source": [
        "\n",
        "## Task 2 (2 points)\n",
        "\n",
        "Please complete the **lambda f2** definition below by filling in the _________ part. **f2** takes a single iterable (e.g. a list or a string), and returns the number of unique elements. Please see the sample output below."
      ]
    },
    {
      "cell_type": "code",
      "metadata": {
        "id": "OH6LEFSzL9Lr",
        "colab": {
          "base_uri": "https://localhost:8080/"
        },
        "outputId": "81295f36-4e96-4059-fc56-3c5ff885afc3"
      },
      "source": [
        "f2 = lambda x: len(set(x)) \n",
        "print(f2([1,2,3,4,1,5,2]))\n",
        "print(f2('hello world'))"
      ],
      "execution_count": null,
      "outputs": [
        {
          "output_type": "stream",
          "text": [
            "5\n",
            "8\n"
          ],
          "name": "stdout"
        }
      ]
    },
    {
      "cell_type": "markdown",
      "metadata": {
        "id": "MGjOHTNOL9Lr"
      },
      "source": [
        "\n",
        "## Task 3 (2 points)\n",
        "\n",
        "Please complete the **lambda f3** definition below by filling in the _________ part. **f3** takes two strings *x* and *y*, and return all the words in *x* that do not appear in *y*. Please note that the word comparison iscase insensitive. Samples area also provided below."
      ]
    },
    {
      "cell_type": "code",
      "metadata": {
        "id": "OgKRE6WvL9Ls",
        "colab": {
          "base_uri": "https://localhost:8080/"
        },
        "outputId": "f063a30b-60a4-49a8-b20a-1b4954d88b6e"
      },
      "source": [
        "f3 = lambda x, y: set(x.split( )).difference(set(y.split( )))\n",
        "print(f3('big data management and analysis', 'big data computing'))\n",
        "print(f3('this is a phrase', 'this is another phrase'))"
      ],
      "execution_count": null,
      "outputs": [
        {
          "output_type": "stream",
          "text": [
            "{'management', 'analysis', 'and'}\n",
            "{'a'}\n"
          ],
          "name": "stdout"
        }
      ]
    },
    {
      "cell_type": "markdown",
      "metadata": {
        "id": "4D1Sn_NiL9Ls"
      },
      "source": [
        "\n",
        "## Task 4 (9 points)\n",
        "\n",
        "We are greatly inspired by the [Consumer Complaints](https://github.com/InsightDataScience/consumer_complaints) challenge from [InsightDataScience](https://github.com/InsightDataScience/). In fact, we are going to tackle the same challenge but streaming. Please read through the challenge at the following link (the most important sections are “Input dataset” and “Expected output”):\n",
        "\n",
        "<https://github.com/InsightDataScience/consumer_complaints>\n",
        "\n",
        "Our problem is different than the one above in that the INPUT is also <ins>sorted by product (alphabetically) and year (ascending)</ins>, similar to the requested output format. You are asked to complete the generator below to produce the expected output. You should not edit any other code.\n",
        "\n",
        "### INPUT\n",
        "Your code will be evaluated against the original data set (in CSV format) downloaded from the below link (of course with a sorted version). For your convenience, a smaller version of the file is provided below for testing purposes.\n",
        "\n",
        "https://www.consumerfinance.gov/data-research/consumer-complaints/#download-the-data\n",
        "\n"
      ]
    },
    {
      "cell_type": "code",
      "metadata": {
        "id": "V8aZSJ5ciyqn"
      },
      "source": [
        "from pydrive.auth import GoogleAuth\r\n",
        "from pydrive.drive import GoogleDrive\r\n",
        "from google.colab import auth\r\n",
        "from oauth2client.client import GoogleCredentials\r\n",
        "\r\n",
        "# Authenticate and create the PyDrive client\r\n",
        "auth.authenticate_user()\r\n",
        "gauth = GoogleAuth()\r\n",
        "gauth.credentials = GoogleCredentials.get_application_default()\r\n",
        "drive = GoogleDrive(gauth)"
      ],
      "execution_count": null,
      "outputs": []
    },
    {
      "cell_type": "code",
      "metadata": {
        "id": "Xf4WQNpEi021",
        "colab": {
          "base_uri": "https://localhost:8080/"
        },
        "outputId": "3229c25f-7976-4ac2-bb54-a603f913522e"
      },
      "source": [
        "drive.CreateFile({'id': '1-IeoZDwT5wQzBUpsaS5B6vTaP-2ZBkam'}).GetContentFile('complaints.csv')\r\n",
        "!head -n 1 complaints.csv"
      ],
      "execution_count": null,
      "outputs": [
        {
          "output_type": "stream",
          "text": [
            "Date received,Product,Sub-product,Issue,Sub-issue,Consumer complaint narrative,Company public response,Company,State,ZIP code,Tags,Consumer consent provided?,Submitted via,Date sent to company,Company response to consumer,Timely response?,Consumer disputed?,Complaint ID\r\n"
          ],
          "name": "stdout"
        }
      ]
    },
    {
      "cell_type": "code",
      "metadata": {
        "id": "28mcMPLZUB6A"
      },
      "source": [
        "import datetime\r\n",
        "def task4(reader):\r\n",
        "  # YOU CAN ONLY EDIT CODE BELOW THIS LINE\r\n",
        "  # Note: below is just an example, and not correct\r\n",
        "  total_complains = 0\r\n",
        "  last_product= None\r\n",
        "  last_year = None\r\n",
        "  sum_comp = 0\r\n",
        "  company = {}\r\n",
        "  for row in reader: # this line should stay the same\r\n",
        "    #day = datetime.datetime.strptime(row['Date received'], '%Y-%m-%d')\r\n",
        "    #year = row['Date received'][0:4]\r\n",
        "    if ((last_product==row['Product'] and last_year== row['Date received'][0:4]) or (last_product == None and last_year == None)):\r\n",
        "      total_complains+=1\r\n",
        "      last_product = row['Product']\r\n",
        "      last_year = row['Date received'][0:4]\r\n",
        "      company[row['Company']]= company.get(row['Company'],0)+1\r\n",
        "      sum_comp=len(company.keys())\r\n",
        "      #MaxKey = max(companyb , key=companyb.count)\r\n",
        "      MaxKey = max(company, key=company.get)\r\n",
        "      #Max_bank = max(company.values())\r\n",
        "      percentage =round((company[MaxKey]/sum_comp)*100)\r\n",
        "      #percentage =round((Max_bank/sum_comp)*100)\r\n",
        "    else:\r\n",
        "\r\n",
        "      yield ([last_product.lower(),last_year,total_complains,sum_comp,percentage])\r\n",
        "      last_product = row['Product']\r\n",
        "      last_year = row['Date received'][0:4]\r\n",
        "      total_complains = 1\r\n",
        "      company={}\r\n",
        "      company[row['Company']]= company.get(row['Company'],0)+1\r\n",
        "      sum_comp=len(company.keys())\r\n",
        "      MaxKey = max(company, key=company.get)\r\n",
        "      percentage =round((company[MaxKey]/sum_comp)*100)\r\n",
        "      #last_product = row['Product']\r\n",
        "      #last_year = year"
      ],
      "execution_count": 70,
      "outputs": []
    },
    {
      "cell_type": "code",
      "metadata": {
        "colab": {
          "base_uri": "https://localhost:8080/"
        },
        "id": "vdF8fvHjTScK",
        "outputId": "9ebe8cdc-ef0c-4188-8d11-5da98f46369f"
      },
      "source": [
        "# DO NOT EDIT THIS CELL, YOU CAN RUN TO QUICKLY CHECK YOUR RESULTS\r\n",
        "\r\n",
        "import csv\r\n",
        "\r\n",
        "with open('complaints.csv', 'r') as fi, open('output.csv', 'w') as fo:\r\n",
        "  reader = csv.DictReader(fi)\r\n",
        "  writer = csv.writer(fo)\r\n",
        "  for row in task4(reader):\r\n",
        "    writer.writerow(row)\r\n",
        "\r\n",
        "!head output.csv"
      ],
      "execution_count": 71,
      "outputs": [
        {
          "output_type": "stream",
          "text": [
            "bank account or service,2015,1,1,100\r\n",
            "bank account or service,2016,2,2,50\r\n",
            "checking or savings account,2017,1,1,100\r\n",
            "checking or savings account,2018,20,10,50\r\n",
            "checking or savings account,2019,461,72,86\r\n",
            "checking or savings account,2020,3,3,33\r\n",
            "consumer loan,2015,1,1,100\r\n",
            "consumer loan,2016,1,1,100\r\n",
            "consumer loan,2017,1,1,100\r\n",
            "credit card,2016,4,4,25\r\n"
          ],
          "name": "stdout"
        }
      ]
    }
  ]
}